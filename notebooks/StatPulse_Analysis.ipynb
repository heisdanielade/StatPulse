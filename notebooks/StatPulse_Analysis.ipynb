{
 "cells": [
  {
   "cell_type": "code",
   "execution_count": null,
   "id": "92a30e6a",
   "metadata": {},
   "outputs": [],
   "source": []
  },
  {
   "cell_type": "code",
   "execution_count": 20,
   "id": "720ebbc2",
   "metadata": {},
   "outputs": [],
   "source": [
    "import pandas as pd\n",
    "import numpy as np\n",
    "import seaborn as sns\n",
    "import matplotlib.pyplot as plt\n",
    "from scipy.stats import skew, kurtosis"
   ]
  },
  {
   "cell_type": "code",
   "execution_count": 21,
   "id": "74f99f66",
   "metadata": {},
   "outputs": [],
   "source": [
    "# Load dataset\n",
    "df = pd.read_csv(\"../data/community_health_dataset.csv\")"
   ]
  },
  {
   "cell_type": "code",
   "execution_count": 22,
   "id": "583d61eb",
   "metadata": {},
   "outputs": [
    {
     "data": {
      "text/html": [
       "<div>\n",
       "<style scoped>\n",
       "    .dataframe tbody tr th:only-of-type {\n",
       "        vertical-align: middle;\n",
       "    }\n",
       "\n",
       "    .dataframe tbody tr th {\n",
       "        vertical-align: top;\n",
       "    }\n",
       "\n",
       "    .dataframe thead th {\n",
       "        text-align: right;\n",
       "    }\n",
       "</style>\n",
       "<table border=\"1\" class=\"dataframe\">\n",
       "  <thead>\n",
       "    <tr style=\"text-align: right;\">\n",
       "      <th></th>\n",
       "      <th>Participant ID</th>\n",
       "      <th>Age</th>\n",
       "      <th>Gender</th>\n",
       "      <th>SES</th>\n",
       "      <th>Service Type</th>\n",
       "      <th>Visit Frequency</th>\n",
       "      <th>Step Frequency (steps/min)</th>\n",
       "      <th>Stride Length (m)</th>\n",
       "      <th>Joint Angle (°)</th>\n",
       "      <th>EMG Activity</th>\n",
       "      <th>Patient Satisfaction (1-10)</th>\n",
       "      <th>Quality of Life Score</th>\n",
       "    </tr>\n",
       "  </thead>\n",
       "  <tbody>\n",
       "    <tr>\n",
       "      <th>0</th>\n",
       "      <td>1</td>\n",
       "      <td>56</td>\n",
       "      <td>F</td>\n",
       "      <td>4</td>\n",
       "      <td>Rehab</td>\n",
       "      <td>Weekly</td>\n",
       "      <td>85</td>\n",
       "      <td>0.54</td>\n",
       "      <td>17.99</td>\n",
       "      <td>Low</td>\n",
       "      <td>1</td>\n",
       "      <td>57</td>\n",
       "    </tr>\n",
       "    <tr>\n",
       "      <th>1</th>\n",
       "      <td>2</td>\n",
       "      <td>69</td>\n",
       "      <td>M</td>\n",
       "      <td>1</td>\n",
       "      <td>Preventive</td>\n",
       "      <td>Yearly</td>\n",
       "      <td>80</td>\n",
       "      <td>0.70</td>\n",
       "      <td>13.05</td>\n",
       "      <td>Moderate</td>\n",
       "      <td>8</td>\n",
       "      <td>94</td>\n",
       "    </tr>\n",
       "    <tr>\n",
       "      <th>2</th>\n",
       "      <td>3</td>\n",
       "      <td>46</td>\n",
       "      <td>M</td>\n",
       "      <td>4</td>\n",
       "      <td>Rehab</td>\n",
       "      <td>Yearly</td>\n",
       "      <td>81</td>\n",
       "      <td>0.57</td>\n",
       "      <td>29.85</td>\n",
       "      <td>Moderate</td>\n",
       "      <td>4</td>\n",
       "      <td>66</td>\n",
       "    </tr>\n",
       "    <tr>\n",
       "      <th>3</th>\n",
       "      <td>4</td>\n",
       "      <td>32</td>\n",
       "      <td>F</td>\n",
       "      <td>1</td>\n",
       "      <td>Consultation</td>\n",
       "      <td>Weekly</td>\n",
       "      <td>66</td>\n",
       "      <td>0.78</td>\n",
       "      <td>28.54</td>\n",
       "      <td>Moderate</td>\n",
       "      <td>9</td>\n",
       "      <td>66</td>\n",
       "    </tr>\n",
       "    <tr>\n",
       "      <th>4</th>\n",
       "      <td>5</td>\n",
       "      <td>60</td>\n",
       "      <td>M</td>\n",
       "      <td>3</td>\n",
       "      <td>Preventive</td>\n",
       "      <td>Weekly</td>\n",
       "      <td>73</td>\n",
       "      <td>0.84</td>\n",
       "      <td>20.80</td>\n",
       "      <td>High</td>\n",
       "      <td>5</td>\n",
       "      <td>98</td>\n",
       "    </tr>\n",
       "  </tbody>\n",
       "</table>\n",
       "</div>"
      ],
      "text/plain": [
       "   Participant ID  Age Gender  SES  Service Type Visit Frequency  \\\n",
       "0               1   56      F    4         Rehab          Weekly   \n",
       "1               2   69      M    1    Preventive          Yearly   \n",
       "2               3   46      M    4         Rehab          Yearly   \n",
       "3               4   32      F    1  Consultation          Weekly   \n",
       "4               5   60      M    3    Preventive          Weekly   \n",
       "\n",
       "   Step Frequency (steps/min)  Stride Length (m)  Joint Angle (°)  \\\n",
       "0                          85               0.54            17.99   \n",
       "1                          80               0.70            13.05   \n",
       "2                          81               0.57            29.85   \n",
       "3                          66               0.78            28.54   \n",
       "4                          73               0.84            20.80   \n",
       "\n",
       "  EMG Activity  Patient Satisfaction (1-10)  Quality of Life Score  \n",
       "0          Low                            1                     57  \n",
       "1     Moderate                            8                     94  \n",
       "2     Moderate                            4                     66  \n",
       "3     Moderate                            9                     66  \n",
       "4         High                            5                     98  "
      ]
     },
     "execution_count": 22,
     "metadata": {},
     "output_type": "execute_result"
    }
   ],
   "source": [
    "# First 5 rows of the dataset\n",
    "df.head()"
   ]
  },
  {
   "cell_type": "code",
   "execution_count": 23,
   "id": "46f876b4",
   "metadata": {},
   "outputs": [
    {
     "name": "stdout",
     "output_type": "stream",
     "text": [
      "Participant ID                   int64\n",
      "Age                              int64\n",
      "Gender                          object\n",
      "SES                              int64\n",
      "Service Type                    object\n",
      "Visit Frequency                 object\n",
      "Step Frequency (steps/min)       int64\n",
      "Stride Length (m)              float64\n",
      "Joint Angle (°)                float64\n",
      "EMG Activity                    object\n",
      "Patient Satisfaction (1-10)      int64\n",
      "Quality of Life Score            int64\n",
      "dtype: object\n"
     ]
    }
   ],
   "source": [
    "# Variable\n",
    "print(df.dtypes)"
   ]
  },
  {
   "cell_type": "code",
   "execution_count": 24,
   "id": "5f23b488",
   "metadata": {},
   "outputs": [
    {
     "data": {
      "text/html": [
       "<div>\n",
       "<style scoped>\n",
       "    .dataframe tbody tr th:only-of-type {\n",
       "        vertical-align: middle;\n",
       "    }\n",
       "\n",
       "    .dataframe tbody tr th {\n",
       "        vertical-align: top;\n",
       "    }\n",
       "\n",
       "    .dataframe thead th {\n",
       "        text-align: right;\n",
       "    }\n",
       "</style>\n",
       "<table border=\"1\" class=\"dataframe\">\n",
       "  <thead>\n",
       "    <tr style=\"text-align: right;\">\n",
       "      <th></th>\n",
       "      <th>Participant ID</th>\n",
       "      <th>Age</th>\n",
       "      <th>SES</th>\n",
       "      <th>Step Frequency (steps/min)</th>\n",
       "      <th>Stride Length (m)</th>\n",
       "      <th>Joint Angle (°)</th>\n",
       "      <th>Patient Satisfaction (1-10)</th>\n",
       "      <th>Quality of Life Score</th>\n",
       "    </tr>\n",
       "  </thead>\n",
       "  <tbody>\n",
       "    <tr>\n",
       "      <th>count</th>\n",
       "      <td>347.000000</td>\n",
       "      <td>347.000000</td>\n",
       "      <td>347.000000</td>\n",
       "      <td>347.000000</td>\n",
       "      <td>347.000000</td>\n",
       "      <td>347.000000</td>\n",
       "      <td>347.000000</td>\n",
       "      <td>347.000000</td>\n",
       "    </tr>\n",
       "    <tr>\n",
       "      <th>mean</th>\n",
       "      <td>174.000000</td>\n",
       "      <td>43.374640</td>\n",
       "      <td>2.357349</td>\n",
       "      <td>80.123919</td>\n",
       "      <td>0.751499</td>\n",
       "      <td>20.057378</td>\n",
       "      <td>5.213256</td>\n",
       "      <td>74.195965</td>\n",
       "    </tr>\n",
       "    <tr>\n",
       "      <th>std</th>\n",
       "      <td>100.314505</td>\n",
       "      <td>15.177304</td>\n",
       "      <td>1.129848</td>\n",
       "      <td>11.257582</td>\n",
       "      <td>0.143221</td>\n",
       "      <td>5.807653</td>\n",
       "      <td>2.833643</td>\n",
       "      <td>13.949400</td>\n",
       "    </tr>\n",
       "    <tr>\n",
       "      <th>min</th>\n",
       "      <td>1.000000</td>\n",
       "      <td>18.000000</td>\n",
       "      <td>1.000000</td>\n",
       "      <td>60.000000</td>\n",
       "      <td>0.500000</td>\n",
       "      <td>10.060000</td>\n",
       "      <td>1.000000</td>\n",
       "      <td>50.000000</td>\n",
       "    </tr>\n",
       "    <tr>\n",
       "      <th>25%</th>\n",
       "      <td>87.500000</td>\n",
       "      <td>31.000000</td>\n",
       "      <td>1.000000</td>\n",
       "      <td>71.000000</td>\n",
       "      <td>0.620000</td>\n",
       "      <td>15.065000</td>\n",
       "      <td>3.000000</td>\n",
       "      <td>62.000000</td>\n",
       "    </tr>\n",
       "    <tr>\n",
       "      <th>50%</th>\n",
       "      <td>174.000000</td>\n",
       "      <td>43.000000</td>\n",
       "      <td>2.000000</td>\n",
       "      <td>81.000000</td>\n",
       "      <td>0.760000</td>\n",
       "      <td>20.190000</td>\n",
       "      <td>5.000000</td>\n",
       "      <td>74.000000</td>\n",
       "    </tr>\n",
       "    <tr>\n",
       "      <th>75%</th>\n",
       "      <td>260.500000</td>\n",
       "      <td>56.000000</td>\n",
       "      <td>3.000000</td>\n",
       "      <td>90.000000</td>\n",
       "      <td>0.860000</td>\n",
       "      <td>25.220000</td>\n",
       "      <td>8.000000</td>\n",
       "      <td>86.000000</td>\n",
       "    </tr>\n",
       "    <tr>\n",
       "      <th>max</th>\n",
       "      <td>347.000000</td>\n",
       "      <td>69.000000</td>\n",
       "      <td>4.000000</td>\n",
       "      <td>99.000000</td>\n",
       "      <td>1.000000</td>\n",
       "      <td>29.970000</td>\n",
       "      <td>10.000000</td>\n",
       "      <td>99.000000</td>\n",
       "    </tr>\n",
       "  </tbody>\n",
       "</table>\n",
       "</div>"
      ],
      "text/plain": [
       "       Participant ID         Age         SES  Step Frequency (steps/min)  \\\n",
       "count      347.000000  347.000000  347.000000                  347.000000   \n",
       "mean       174.000000   43.374640    2.357349                   80.123919   \n",
       "std        100.314505   15.177304    1.129848                   11.257582   \n",
       "min          1.000000   18.000000    1.000000                   60.000000   \n",
       "25%         87.500000   31.000000    1.000000                   71.000000   \n",
       "50%        174.000000   43.000000    2.000000                   81.000000   \n",
       "75%        260.500000   56.000000    3.000000                   90.000000   \n",
       "max        347.000000   69.000000    4.000000                   99.000000   \n",
       "\n",
       "       Stride Length (m)  Joint Angle (°)  Patient Satisfaction (1-10)  \\\n",
       "count         347.000000       347.000000                   347.000000   \n",
       "mean            0.751499        20.057378                     5.213256   \n",
       "std             0.143221         5.807653                     2.833643   \n",
       "min             0.500000        10.060000                     1.000000   \n",
       "25%             0.620000        15.065000                     3.000000   \n",
       "50%             0.760000        20.190000                     5.000000   \n",
       "75%             0.860000        25.220000                     8.000000   \n",
       "max             1.000000        29.970000                    10.000000   \n",
       "\n",
       "       Quality of Life Score  \n",
       "count             347.000000  \n",
       "mean               74.195965  \n",
       "std                13.949400  \n",
       "min                50.000000  \n",
       "25%                62.000000  \n",
       "50%                74.000000  \n",
       "75%                86.000000  \n",
       "max                99.000000  "
      ]
     },
     "execution_count": 24,
     "metadata": {},
     "output_type": "execute_result"
    }
   ],
   "source": [
    "# Summary statistics\n",
    "df.describe()"
   ]
  },
  {
   "cell_type": "code",
   "execution_count": 25,
   "id": "2bc22fc7",
   "metadata": {},
   "outputs": [
    {
     "data": {
      "image/png": "[encoded data removed]",
      "text/plain": [
       "<Figure size 600x400 with 1 Axes>"
      ]
     },
     "metadata": {},
     "output_type": "display_data"
    }
   ],
   "source": [
    "# Gender distribution\n",
    "plt.figure(figsize=(6,4))\n",
    "sns.countplot(x='Gender', data=df)\n",
    "plt.title(\"Gender Distribution\")\n",
    "plt.show()"
   ]
  },
  {
   "cell_type": "code",
   "execution_count": 26,
   "id": "cbf3961b",
   "metadata": {},
   "outputs": [
    {
     "data": {
      "image/png": "[encoded data removed]",
      "text/plain": [
       "<Figure size 600x400 with 1 Axes>"
      ]
     },
     "metadata": {},
     "output_type": "display_data"
    }
   ],
   "source": [
    "# Age distribution\n",
    "plt.figure(figsize=(6,4))\n",
    "sns.histplot(df['Age'], kde=True, bins=20)\n",
    "plt.title(\"Age Distribution\")\n",
    "plt.xlabel(\"Age\")\n",
    "plt.show()"
   ]
  },
  {
   "cell_type": "code",
   "execution_count": 27,
   "id": "f40c0a50",
   "metadata": {},
   "outputs": [
    {
     "data": {
      "image/png": "[encoded data removed]",
      "text/plain": [
       "<Figure size 600x400 with 1 Axes>"
      ]
     },
     "metadata": {},
     "output_type": "display_data"
    }
   ],
   "source": [
    "# BMI distribution\n",
    "plt.figure(figsize=(6,4))\n",
    "sns.histplot(df['Quality of Life Score'], kde=True, bins=20)\n",
    "plt.title(\"Quality of Life Score Distribution\")\n",
    "plt.xlabel(\"Quality of Life Score\")\n",
    "plt.show()"
   ]
  },
  {
   "cell_type": "code",
   "execution_count": 28,
   "id": "33589250",
   "metadata": {},
   "outputs": [],
   "source": [
    "# ================ Descriptive Statistics ================\n",
    "# Descriptive statistics for numerical variables"
   ]
  },
  {
   "cell_type": "code",
   "execution_count": 29,
   "id": "64a3275b",
   "metadata": {},
   "outputs": [
    {
     "name": "stdout",
     "output_type": "stream",
     "text": [
      "\n",
      "--- Age ---\n",
      "Mean: 43.37\n",
      "Median: 43.00\n",
      "Mode: 41.00\n",
      "\n",
      "--- Quality of Life Score ---\n",
      "Mean: 74.20\n",
      "Median: 74.00\n",
      "Mode: 62.00\n"
     ]
    }
   ],
   "source": [
    "# Mean, Median, Mode\n",
    "for col in ['Age', 'Quality of Life Score']:\n",
    "    print(f\"\\n--- {col} ---\")\n",
    "    print(f\"Mean: {df[col].mean():.2f}\")\n",
    "    print(f\"Median: {df[col].median():.2f}\")\n",
    "    print(f\"Mode: {df[col].mode().values[0]:.2f}\")"
   ]
  },
  {
   "cell_type": "code",
   "execution_count": 30,
   "id": "c8f6f842",
   "metadata": {},
   "outputs": [
    {
     "name": "stdout",
     "output_type": "stream",
     "text": [
      "\n",
      "--- Age ---\n",
      "Standard Deviation: 15.18\n",
      "Variance: 230.35\n",
      "Range: 51.00\n",
      "\n",
      "--- Quality of Life Score ---\n",
      "Standard Deviation: 13.95\n",
      "Variance: 194.59\n",
      "Range: 49.00\n"
     ]
    }
   ],
   "source": [
    "for col in ['Age', 'Quality of Life Score']:\n",
    "    print(f\"\\n--- {col} ---\")\n",
    "    print(f\"Standard Deviation: {df[col].std():.2f}\")\n",
    "    print(f\"Variance: {df[col].var():.2f}\")\n",
    "    print(f\"Range: {df[col].max() - df[col].min():.2f}\")\n"
   ]
  },
  {
   "cell_type": "code",
   "execution_count": 31,
   "id": "2164f21a",
   "metadata": {},
   "outputs": [
    {
     "name": "stdout",
     "output_type": "stream",
     "text": [
      "\n",
      "--- Age ---\n",
      "Skewness: -0.04\n",
      "Kurtosis: -1.16\n",
      "\n",
      "--- Quality of Life Score ---\n",
      "Skewness: 0.02\n",
      "Kurtosis: -1.16\n"
     ]
    }
   ],
   "source": [
    "for col in ['Age', 'Quality of Life Score']:\n",
    "    print(f\"\\n--- {col} ---\")\n",
    "    print(f\"Skewness: {skew(df[col]):.2f}\")\n",
    "    print(f\"Kurtosis: {kurtosis(df[col]):.2f}\")"
   ]
  },
  {
   "cell_type": "markdown",
   "id": "6b704a2c",
   "metadata": {},
   "source": [
    "## Interpretation of Descriptive Statistics\n",
    "\n",
    "### Age\n",
    "- The **mean age** is **43.37**, with a **median of 43** and a **mode of 41**, suggesting a nearly symmetric distribution.\n",
    "- The values of the mean, median, and mode are quite close, which reinforces the idea of a **balanced age distribution** without strong skew.\n",
    "- The **standard deviation is 15.18**, indicating a moderate spread of ages across the sample.\n",
    "- With a **range of 51 years**, the data covers a **wide age spectrum**, likely capturing young adults through older individuals.\n",
    "- This spread provides a solid basis for age-related subgroup analysis.\n",
    "\n",
    "### Quality of Life Score\n",
    "- The **mean score is 74.20**, **median is 74**, and **mode is 62**, suggesting a slightly **left-skewed** distribution (more people reporting higher quality of life, but some clustering around lower scores).\n",
    "- The **standard deviation of 13.95** and **range of 49 points** indicate a **broad variability** in how respondents rate their quality of life.\n",
    "- This variability might reflect differences in health behaviors, income, education, or chronic conditions.\n",
    "- The fact that the mode (62) is significantly lower than the mean also suggests **a possible cluster of individuals reporting poorer quality of life**, even though the average is relatively high.\n"
   ]
  },
  {
   "cell_type": "code",
   "execution_count": null,
   "id": "4c3fa4a5",
   "metadata": {},
   "outputs": [],
   "source": []
  },
  {
   "cell_type": "code",
   "execution_count": null,
   "id": "b597ae49",
   "metadata": {},
   "outputs": [],
   "source": []
  }
 ],
 "metadata": {
  "kernelspec": {
   "display_name": ".venv",
   "language": "python",
   "name": "python3"
  },
  "language_info": {
   "codemirror_mode": {
    "name": "ipython",
    "version": 3
   },
   "file_extension": ".py",
   "mimetype": "text/x-python",
   "name": "python",
   "nbconvert_exporter": "python",
   "pygments_lexer": "ipython3",
   "version": "3.12.2"
  }
 },
 "nbformat": 4,
 "nbformat_minor": 5
}
